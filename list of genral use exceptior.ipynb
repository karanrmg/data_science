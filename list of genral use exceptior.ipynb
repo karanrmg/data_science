{
 "cells": [
  {
   "cell_type": "code",
   "execution_count": 1,
   "id": "cda3aeb4-844b-4cef-aa6a-f3e6bab48a87",
   "metadata": {},
   "outputs": [
    {
     "name": "stdout",
     "output_type": "stream",
     "text": [
      "division by zero\n"
     ]
    }
   ],
   "source": [
    "try :\n",
    "    a = 10/0\n",
    "except ZeroDivisionError as e: \n",
    "    print(e)"
   ]
  },
  {
   "cell_type": "code",
   "execution_count": 2,
   "id": "593ca780-2516-467f-b62b-c15ae92cb321",
   "metadata": {},
   "outputs": [
    {
     "name": "stdout",
     "output_type": "stream",
     "text": [
      "invalid literal for int() with base 10: 'karan'\n"
     ]
    }
   ],
   "source": [
    "try :\n",
    "    int('karan')\n",
    "except (ValueError ,TypeError  ) as e :\n",
    "    print(e)"
   ]
  },
  {
   "cell_type": "code",
   "execution_count": 3,
   "id": "cc4144b2-6009-4a0b-a453-845a07491830",
   "metadata": {},
   "outputs": [
    {
     "name": "stdout",
     "output_type": "stream",
     "text": [
      "this will catch as error\n"
     ]
    }
   ],
   "source": [
    "try :\n",
    "    int('karan')\n",
    "except :\n",
    "    print('this will catch as error')"
   ]
  },
  {
   "cell_type": "code",
   "execution_count": 5,
   "id": "9671787f-0fdd-4748-b736-7eefd0c768f2",
   "metadata": {},
   "outputs": [
    {
     "name": "stdout",
     "output_type": "stream",
     "text": [
      "No module named 'karan'\n"
     ]
    },
    {
     "data": {
      "text/plain": [
       "2.5"
      ]
     },
     "execution_count": 5,
     "metadata": {},
     "output_type": "execute_result"
    }
   ],
   "source": [
    "try :\n",
    "    import karan\n",
    "except ImportError as e :\n",
    "    print(e)\n",
    "10/4    "
   ]
  },
  {
   "cell_type": "code",
   "execution_count": 6,
   "id": "0aa04a01-b6de-48db-9925-947df4395398",
   "metadata": {},
   "outputs": [
    {
     "name": "stdout",
     "output_type": "stream",
     "text": [
      "'key2'\n"
     ]
    }
   ],
   "source": [
    "try :\n",
    "    d = {'key' : 'karan', 1 : [2,3,4]}\n",
    "    print(d['key2'])\n",
    "except KeyError as e :\n",
    "    print(e)"
   ]
  },
  {
   "cell_type": "code",
   "execution_count": 8,
   "id": "656fc5dd-7441-458d-aba7-64a30ab839b5",
   "metadata": {},
   "outputs": [
    {
     "name": "stdout",
     "output_type": "stream",
     "text": [
      "'str' object has no attribute 'test'\n"
     ]
    }
   ],
   "source": [
    "try :\n",
    "    'karan'.test()\n",
    "except AttributeError as e :\n",
    "    print (e)"
   ]
  },
  {
   "cell_type": "code",
   "execution_count": 9,
   "id": "772d22cb-4414-49aa-97b9-eef2fdebc7cd",
   "metadata": {},
   "outputs": [
    {
     "name": "stdout",
     "output_type": "stream",
     "text": [
      "list index out of range\n"
     ]
    }
   ],
   "source": [
    "try :\n",
    "    l = [2,3,4,5,6,7]\n",
    "    print(l[8])\n",
    "except IndexError as e:\n",
    "    print(e)"
   ]
  },
  {
   "cell_type": "code",
   "execution_count": 11,
   "id": "cc40bc7d-25f2-43d4-9729-80d930cad1df",
   "metadata": {},
   "outputs": [
    {
     "name": "stdout",
     "output_type": "stream",
     "text": [
      "unsupported operand type(s) for +: 'int' and 'str'\n"
     ]
    }
   ],
   "source": [
    "try :\n",
    "    123 + \"karan\"\n",
    "except TypeError as e:\n",
    "    print(e)"
   ]
  },
  {
   "cell_type": "code",
   "execution_count": 12,
   "id": "9e7ea8dc-b931-4bec-878d-1ed84cd16f33",
   "metadata": {},
   "outputs": [],
   "source": [
    "try :\n",
    "    with open('test.txt', 'r') as f :\n",
    "        test = f.read()\n",
    "except FileNotError as e :\n",
    "    print(e)\n",
    "        "
   ]
  },
  {
   "cell_type": "code",
   "execution_count": 13,
   "id": "9de24089-f56a-4aaf-a520-0f39e480bd1c",
   "metadata": {},
   "outputs": [
    {
     "data": {
      "text/plain": [
       "['__cause__',\n",
       " '__class__',\n",
       " '__context__',\n",
       " '__delattr__',\n",
       " '__dict__',\n",
       " '__dir__',\n",
       " '__doc__',\n",
       " '__eq__',\n",
       " '__format__',\n",
       " '__ge__',\n",
       " '__getattribute__',\n",
       " '__gt__',\n",
       " '__hash__',\n",
       " '__init__',\n",
       " '__init_subclass__',\n",
       " '__le__',\n",
       " '__lt__',\n",
       " '__ne__',\n",
       " '__new__',\n",
       " '__reduce__',\n",
       " '__reduce_ex__',\n",
       " '__repr__',\n",
       " '__setattr__',\n",
       " '__setstate__',\n",
       " '__sizeof__',\n",
       " '__str__',\n",
       " '__subclasshook__',\n",
       " '__suppress_context__',\n",
       " '__traceback__',\n",
       " 'args',\n",
       " 'with_traceback']"
      ]
     },
     "execution_count": 13,
     "metadata": {},
     "output_type": "execute_result"
    }
   ],
   "source": [
    "dir(Exception)"
   ]
  },
  {
   "cell_type": "code",
   "execution_count": 24,
   "id": "99ca37e6-248b-4b7d-93fe-da9a396988d5",
   "metadata": {},
   "outputs": [
    {
     "ename": "SyntaxError",
     "evalue": "expected 'except' or 'finally' block (2778616672.py, line 7)",
     "output_type": "error",
     "traceback": [
      "\u001b[0;36m  Cell \u001b[0;32mIn[24], line 7\u001b[0;36m\u001b[0m\n\u001b[0;31m    except Exception as e :\u001b[0m\n\u001b[0m                           ^\u001b[0m\n\u001b[0;31mSyntaxError\u001b[0m\u001b[0;31m:\u001b[0m expected 'except' or 'finally' block\n"
     ]
    }
   ],
   "source": [
    "def test(file) :\n",
    "\n",
    "    try :\n",
    "        with open('file' , 'r') as f :\n",
    "            test = f.read()\n",
    "        \n",
    "except Exception as e :\n",
    "    print(e)\n",
    "    \n",
    "except FileNotFoundError as e :\n",
    "    print('test',e)\n",
    "    \n",
    "    \n",
    "    "
   ]
  },
  {
   "cell_type": "code",
   "execution_count": null,
   "id": "58255e21-fe51-4d2b-88f6-c5b2ffdc68fc",
   "metadata": {},
   "outputs": [],
   "source": []
  }
 ],
 "metadata": {
  "kernelspec": {
   "display_name": "Python 3 (ipykernel)",
   "language": "python",
   "name": "python3"
  },
  "language_info": {
   "codemirror_mode": {
    "name": "ipython",
    "version": 3
   },
   "file_extension": ".py",
   "mimetype": "text/x-python",
   "name": "python",
   "nbconvert_exporter": "python",
   "pygments_lexer": "ipython3",
   "version": "3.10.8"
  }
 },
 "nbformat": 4,
 "nbformat_minor": 5
}
